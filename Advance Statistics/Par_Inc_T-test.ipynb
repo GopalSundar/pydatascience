{
 "cells": [
  {
   "cell_type": "code",
   "execution_count": 1,
   "metadata": {
    "collapsed": true
   },
   "outputs": [],
   "source": [
    "import numpy as np\n",
    "import pandas as pd\n",
    "import seaborn as sns\n",
    "import matplotlib.pyplot as plt\n",
    "import scipy.stats as stats\n",
    "from statsmodels.stats.power import ttest_power\n",
    "from statsmodels.graphics.gofplots import qqplot\n",
    "%matplotlib inline"
   ]
  },
  {
   "cell_type": "code",
   "execution_count": 2,
   "metadata": {
    "collapsed": true
   },
   "outputs": [],
   "source": [
    "golf_df=pd.read_excel('SM4-Golf.xls')"
   ]
  },
  {
   "cell_type": "code",
   "execution_count": 3,
   "metadata": {},
   "outputs": [
    {
     "data": {
      "text/html": [
       "<div>\n",
       "<style>\n",
       "    .dataframe thead tr:only-child th {\n",
       "        text-align: right;\n",
       "    }\n",
       "\n",
       "    .dataframe thead th {\n",
       "        text-align: left;\n",
       "    }\n",
       "\n",
       "    .dataframe tbody tr th {\n",
       "        vertical-align: top;\n",
       "    }\n",
       "</style>\n",
       "<table border=\"1\" class=\"dataframe\">\n",
       "  <thead>\n",
       "    <tr style=\"text-align: right;\">\n",
       "      <th></th>\n",
       "      <th>Current</th>\n",
       "      <th>New</th>\n",
       "    </tr>\n",
       "  </thead>\n",
       "  <tbody>\n",
       "    <tr>\n",
       "      <th>0</th>\n",
       "      <td>264</td>\n",
       "      <td>277</td>\n",
       "    </tr>\n",
       "    <tr>\n",
       "      <th>1</th>\n",
       "      <td>261</td>\n",
       "      <td>269</td>\n",
       "    </tr>\n",
       "    <tr>\n",
       "      <th>2</th>\n",
       "      <td>267</td>\n",
       "      <td>263</td>\n",
       "    </tr>\n",
       "    <tr>\n",
       "      <th>3</th>\n",
       "      <td>272</td>\n",
       "      <td>266</td>\n",
       "    </tr>\n",
       "    <tr>\n",
       "      <th>4</th>\n",
       "      <td>258</td>\n",
       "      <td>262</td>\n",
       "    </tr>\n",
       "  </tbody>\n",
       "</table>\n",
       "</div>"
      ],
      "text/plain": [
       "   Current  New\n",
       "0      264  277\n",
       "1      261  269\n",
       "2      267  263\n",
       "3      272  266\n",
       "4      258  262"
      ]
     },
     "execution_count": 3,
     "metadata": {},
     "output_type": "execute_result"
    }
   ],
   "source": [
    "# Data Exploration \n",
    "golf_df.head()"
   ]
  },
  {
   "cell_type": "code",
   "execution_count": 4,
   "metadata": {},
   "outputs": [
    {
     "name": "stdout",
     "output_type": "stream",
     "text": [
      "<class 'pandas.core.frame.DataFrame'>\n",
      "RangeIndex: 40 entries, 0 to 39\n",
      "Data columns (total 2 columns):\n",
      "Current    40 non-null int64\n",
      "New        40 non-null int64\n",
      "dtypes: int64(2)\n",
      "memory usage: 720.0 bytes\n"
     ]
    }
   ],
   "source": [
    "golf_df.info()"
   ]
  },
  {
   "cell_type": "code",
   "execution_count": 5,
   "metadata": {},
   "outputs": [
    {
     "data": {
      "text/html": [
       "<div>\n",
       "<style>\n",
       "    .dataframe thead tr:only-child th {\n",
       "        text-align: right;\n",
       "    }\n",
       "\n",
       "    .dataframe thead th {\n",
       "        text-align: left;\n",
       "    }\n",
       "\n",
       "    .dataframe tbody tr th {\n",
       "        vertical-align: top;\n",
       "    }\n",
       "</style>\n",
       "<table border=\"1\" class=\"dataframe\">\n",
       "  <thead>\n",
       "    <tr style=\"text-align: right;\">\n",
       "      <th></th>\n",
       "      <th>Current</th>\n",
       "      <th>New</th>\n",
       "    </tr>\n",
       "  </thead>\n",
       "  <tbody>\n",
       "    <tr>\n",
       "      <th>count</th>\n",
       "      <td>40.000000</td>\n",
       "      <td>40.000000</td>\n",
       "    </tr>\n",
       "    <tr>\n",
       "      <th>mean</th>\n",
       "      <td>270.275000</td>\n",
       "      <td>267.500000</td>\n",
       "    </tr>\n",
       "    <tr>\n",
       "      <th>std</th>\n",
       "      <td>8.752985</td>\n",
       "      <td>9.896904</td>\n",
       "    </tr>\n",
       "    <tr>\n",
       "      <th>min</th>\n",
       "      <td>255.000000</td>\n",
       "      <td>250.000000</td>\n",
       "    </tr>\n",
       "    <tr>\n",
       "      <th>25%</th>\n",
       "      <td>263.000000</td>\n",
       "      <td>262.000000</td>\n",
       "    </tr>\n",
       "    <tr>\n",
       "      <th>50%</th>\n",
       "      <td>270.000000</td>\n",
       "      <td>265.000000</td>\n",
       "    </tr>\n",
       "    <tr>\n",
       "      <th>75%</th>\n",
       "      <td>275.250000</td>\n",
       "      <td>274.500000</td>\n",
       "    </tr>\n",
       "    <tr>\n",
       "      <th>max</th>\n",
       "      <td>289.000000</td>\n",
       "      <td>289.000000</td>\n",
       "    </tr>\n",
       "  </tbody>\n",
       "</table>\n",
       "</div>"
      ],
      "text/plain": [
       "          Current         New\n",
       "count   40.000000   40.000000\n",
       "mean   270.275000  267.500000\n",
       "std      8.752985    9.896904\n",
       "min    255.000000  250.000000\n",
       "25%    263.000000  262.000000\n",
       "50%    270.000000  265.000000\n",
       "75%    275.250000  274.500000\n",
       "max    289.000000  289.000000"
      ]
     },
     "execution_count": 5,
     "metadata": {},
     "output_type": "execute_result"
    }
   ],
   "source": [
    "golf_df.describe()"
   ]
  },
  {
   "cell_type": "code",
   "execution_count": 6,
   "metadata": {},
   "outputs": [
    {
     "data": {
      "text/plain": [
       "<matplotlib.axes._subplots.AxesSubplot at 0xc8ebb00>"
      ]
     },
     "execution_count": 6,
     "metadata": {},
     "output_type": "execute_result"
    },
    {
     "data": {
      "image/png": "[encoded data removed]",
      "text/plain": [
       "<matplotlib.figure.Figure at 0xc8eb588>"
      ]
     },
     "metadata": {},
     "output_type": "display_data"
    }
   ],
   "source": [
    "sns.distplot(golf_df['Current'])"
   ]
  },
  {
   "cell_type": "code",
   "execution_count": 7,
   "metadata": {},
   "outputs": [
    {
     "data": {
      "text/plain": [
       "<matplotlib.axes._subplots.AxesSubplot at 0xc8b5668>"
      ]
     },
     "execution_count": 7,
     "metadata": {},
     "output_type": "execute_result"
    },
    {
     "data": {
      "image/png": "[encoded data removed]",
      "text/plain": [
       "<matplotlib.figure.Figure at 0xc8eb2e8>"
      ]
     },
     "metadata": {},
     "output_type": "display_data"
    }
   ],
   "source": [
    "sns.distplot(golf_df['New'])"
   ]
  },
  {
   "cell_type": "code",
   "execution_count": 8,
   "metadata": {
    "collapsed": true
   },
   "outputs": [],
   "source": [
    "# check for normality\n",
    "def check_normality(pGolfball,pSampleDf):\n",
    "    pStat, pSample=stats.shapiro(pSampleDf)\n",
    "    alpha=0.05\n",
    "    if pSample>alpha:\n",
    "        print('Statistics for %s=%.3f \\n\\np-Value for %s=%.3f \\n\\nSample of %s is normally distributed' %(pGolfball,pStat,pGolfball,pSample,pGolfball))\n",
    "    else:\n",
    "        print('Statistics for %s=%.3f \\n\\np-Value for %s=%.3f \\n\\nSample of %s is not normally distributed' %(pGolfball,pStat,pGolfball,pSample,pGolfball))\n",
    "#stat_current, p_current= shapiro(golf_df['Current'])\n",
    "\n",
    "# homogeneity of variances\n",
    "def homogeneity_variances(pGolfballCurrent, pGolfballNew):\n",
    "    stat_levene, p_levene=stats.levene(pGolfballCurrent, pGolfballNew)\n",
    "    alpha=0.05\n",
    "    if p_levene > alpha:\n",
    "        print('Variance are equal for the groups supplied \\n\\np-Value (using levene\\'s test) calculated as %.3f'%p_levene)\n",
    "    else:\n",
    "        print('Variance are not equal for the groups supplied \\n\\np-Value (using levene\\'s test) calculated as %.3f'%p_levene)\n",
    "# function for calculating the t-test for two independent samples\n",
    "def independent_ttest(data1, data2, alpha):\n",
    "    t_statistic, p_value = stats.ttest_ind(golf_df['Current'],golf_df['New'])\n",
    "    if p_value<=alpha:\n",
    "        print('Reject the Null Hypothesis. In otherwords, There is enough evidence to accept alternative hypothesis')\n",
    "    else:\n",
    "        print('Do not reject Null Hypothesis at %i percent level of significance as p-Value > alpha (%.3f > %.3f)' %(alpha*100,p_value,alpha))\n",
    "        \n",
    "def sample_power(pGolfballCurrent,pGolfballNew,num_of_obs,pAlpha,pAlt):\n",
    "    pooled_std_dev=(np.mean(pGolfballCurrent)-np.mean(pGolfballNew))/np.sqrt(((num_of_obs-1)*np.var(pGolfballCurrent)+(num_of_obs-1)*np.var(pGolfballNew))/num_of_obs+num_of_obs-2)\n",
    "    return(ttest_power(pooled_std_dev,nobs=num_of_obs,alpha=pAlpha,alternative=pAlt))        \n",
    "        # check for normality\n",
    "def check_normality(pGolfball,pSampleDf):\n",
    "    pStat, pSample=stats.shapiro(pSampleDf)\n",
    "    alpha=0.05\n",
    "    if pSample>alpha:\n",
    "        print('Statistics for %s=%.3f \\n\\np-Value for %s=%.3f \\n\\nSample of %s is normally distributed' %(pGolfball,pStat,pGolfball,pSample,pGolfball))\n",
    "    else:\n",
    "        print('Statistics for %s=%.3f \\n\\np-Value for %s=%.3f \\n\\nSample of %s is not normally distributed' %(pGolfball,pStat,pGolfball,pSample,pGolfball))\n",
    "#stat_current, p_current= shapiro(golf_df['Current'])\n",
    "\n",
    "# homogeneity of variances\n",
    "def homogeneity_variances(pGolfballCurrent, pGolfballNew):\n",
    "    stat_levene, p_levene=stats.levene(pGolfballCurrent, pGolfballNew)\n",
    "    alpha=0.05\n",
    "    if p_levene > alpha:\n",
    "        print('Variance are equal for the groups supplied \\n\\np-Value (using levene\\'s test) calculated as %.3f'%p_levene)\n",
    "    else:\n",
    "        print('Variance are not equal for the groups supplied \\n\\np-Value (using levene\\'s test) calculated as %.3f'%p_levene)\n",
    "# function for calculating the t-test for two independent samples\n",
    "def independent_ttest(data1, data2, alpha):\n",
    "    t_statistic, p_value = stats.ttest_ind(golf_df['Current'],golf_df['New'])\n",
    "    if p_value<=alpha:\n",
    "        print('Reject the Null Hypothesis. In otherwords, There is enough evidence to accept alternative hypothesis')\n",
    "    else:\n",
    "        print('Do not reject Null Hypothesis at %i percent level of significance as p-Value > alpha (%.3f > %.3f)' %(alpha*100,p_value,alpha))\n",
    "        \n",
    "def sample_power(pGolfballCurrent,pGolfballNew,num_of_obs,pAlpha,pAlt):\n",
    "    pooled_std_dev=(np.mean(pGolfballCurrent)-np.mean(pGolfballNew))/np.sqrt(((num_of_obs-1)*np.var(pGolfballCurrent)+(num_of_obs-1)*np.var(pGolfballNew))/num_of_obs+num_of_obs-2)\n",
    "    return(ttest_power(pooled_std_dev,nobs=num_of_obs,alpha=pAlpha,alternative=pAlt))        \n",
    "        "
   ]
  },
  {
   "cell_type": "code",
   "execution_count": 10,
   "metadata": {},
   "outputs": [
    {
     "name": "stdout",
     "output_type": "stream",
     "text": [
      "Statistics for Current Golfball=0.971 \n",
      "\n",
      "p-Value for Current Golfball=0.379 \n",
      "\n",
      "Sample of Current Golfball is normally distributed\n"
     ]
    }
   ],
   "source": [
    "# check for normality of the driving distance samples provided for current\n",
    "check_normality('Current Golfball',golf_df['Current'])"
   ]
  },
  {
   "cell_type": "code",
   "execution_count": 11,
   "metadata": {},
   "outputs": [
    {
     "name": "stdout",
     "output_type": "stream",
     "text": [
      "Statistics for New Golfball=0.968 \n",
      "\n",
      "p-Value for New Golfball=0.306 \n",
      "\n",
      "Sample of New Golfball is normally distributed\n"
     ]
    }
   ],
   "source": [
    "# check for normality of the driving distance samples provided for newball\n",
    "check_normality('New Golfball',golf_df['New'])"
   ]
  },
  {
   "cell_type": "code",
   "execution_count": 12,
   "metadata": {},
   "outputs": [
    {
     "name": "stdout",
     "output_type": "stream",
     "text": [
      "From above results we can confirm that the samples provided for Current & New Golf ball are normally distributed\n"
     ]
    }
   ],
   "source": [
    "print('From above results we can confirm that the samples provided for Current & New Golf ball are normally distributed')"
   ]
  },
  {
   "cell_type": "code",
   "execution_count": 13,
   "metadata": {},
   "outputs": [
    {
     "name": "stdout",
     "output_type": "stream",
     "text": [
      "Variance are equal for the groups supplied \n",
      "\n",
      "p-Value (using levene's test) calculated as 0.615\n"
     ]
    }
   ],
   "source": [
    "homogeneity_variances(golf_df['Current'],golf_df['New'])"
   ]
  },
  {
   "cell_type": "code",
   "execution_count": 14,
   "metadata": {},
   "outputs": [
    {
     "name": "stdout",
     "output_type": "stream",
     "text": [
      "Do not reject Null Hypothesis at 5 percent level of significance as p-Value > alpha (0.188 > 0.050)\n"
     ]
    }
   ],
   "source": [
    "#Calculate Test Statistic\n",
    "independent_ttest (golf_df['Current'],golf_df['New'],0.05)"
   ]
  },
  {
   "cell_type": "code",
   "execution_count": 15,
   "metadata": {},
   "outputs": [
    {
     "name": "stdout",
     "output_type": "stream",
     "text": [
      "There is not enough evidence at 5% level of significance to suggest that the driving distance average \n",
      "of new golf ball is different from current golf ball\n"
     ]
    }
   ],
   "source": [
    "print('There is not enough evidence at 5% level of significance to suggest that the driving distance average \\nof new golf ball is different from current golf ball')"
   ]
  },
  {
   "cell_type": "code",
   "execution_count": 16,
   "metadata": {
    "collapsed": true
   },
   "outputs": [],
   "source": [
    "power_of_test=sample_power(golf_df['Current'],golf_df['New'],40,0.05,'two-sided')"
   ]
  },
  {
   "cell_type": "code",
   "execution_count": 17,
   "metadata": {},
   "outputs": [
    {
     "name": "stdout",
     "output_type": "stream",
     "text": [
      "Power of test 22.41 percent\n"
     ]
    }
   ],
   "source": [
    "print (\"Power of test %.2f percent\"% (power_of_test*100))"
   ]
  },
  {
   "cell_type": "code",
   "execution_count": 18,
   "metadata": {},
   "outputs": [
    {
     "name": "stdout",
     "output_type": "stream",
     "text": [
      "As noticed above, statistically there is no significant change in the driving distance due to the new coating on \n",
      "golfballs.Based on our observation in the power of test, our recommendation is that the test be carried out with \n",
      "larger sample size to improve the power of test results.\n"
     ]
    }
   ],
   "source": [
    "print('As noticed above, statistically there is no significant change in the driving distance due to the new coating on \\ngolfballs.Based on our observation in the power of test, our recommendation is that the test be carried out with \\nlarger sample size to improve the power of test results.')"
   ]
  },
  {
   "cell_type": "code",
   "execution_count": null,
   "metadata": {
    "collapsed": true
   },
   "outputs": [],
   "source": []
  }
 ],
 "metadata": {
  "kernelspec": {
   "display_name": "Python 3",
   "language": "python",
   "name": "python3"
  },
  "language_info": {
   "codemirror_mode": {
    "name": "ipython",
    "version": 3
   },
   "file_extension": ".py",
   "mimetype": "text/x-python",
   "name": "python",
   "nbconvert_exporter": "python",
   "pygments_lexer": "ipython3",
   "version": "3.6.3"
  }
 },
 "nbformat": 4,
 "nbformat_minor": 2
}
